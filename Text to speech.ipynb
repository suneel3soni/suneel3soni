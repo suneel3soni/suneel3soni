{
 "cells": [
  {
   "cell_type": "code",
   "execution_count": 3,
   "id": "19ebd9dc",
   "metadata": {},
   "outputs": [
    {
     "name": "stdout",
     "output_type": "stream",
     "text": [
      "Requirement already satisfied: gTTS in c:\\users\\sunee\\anaconda3\\lib\\site-packages (2.3.0)\n",
      "Requirement already satisfied: click~=8.1.3 in c:\\users\\sunee\\anaconda3\\lib\\site-packages (from gTTS) (8.1.3)\n",
      "Requirement already satisfied: six~=1.16.0 in c:\\users\\sunee\\anaconda3\\lib\\site-packages (from gTTS) (1.16.0)\n",
      "Requirement already satisfied: requests~=2.28.0 in c:\\users\\sunee\\anaconda3\\lib\\site-packages (from gTTS) (2.28.1)\n",
      "Requirement already satisfied: colorama in c:\\users\\sunee\\anaconda3\\lib\\site-packages (from click~=8.1.3->gTTS) (0.4.4)\n",
      "Requirement already satisfied: charset-normalizer<3,>=2 in c:\\users\\sunee\\anaconda3\\lib\\site-packages (from requests~=2.28.0->gTTS) (2.0.4)\n",
      "Requirement already satisfied: urllib3<1.27,>=1.21.1 in c:\\users\\sunee\\anaconda3\\lib\\site-packages (from requests~=2.28.0->gTTS) (1.26.7)\n",
      "Requirement already satisfied: certifi>=2017.4.17 in c:\\users\\sunee\\anaconda3\\lib\\site-packages (from requests~=2.28.0->gTTS) (2021.10.8)\n",
      "Requirement already satisfied: idna<4,>=2.5 in c:\\users\\sunee\\anaconda3\\lib\\site-packages (from requests~=2.28.0->gTTS) (3.2)\n"
     ]
    }
   ],
   "source": [
    "# GTTS (Google Text-to-Speech), a Python library and CLI tool to interface with Google Translate text-to-speech API.\n",
    "!pip install gTTS"
   ]
  },
  {
   "cell_type": "code",
   "execution_count": 5,
   "id": "5ef84372",
   "metadata": {},
   "outputs": [],
   "source": [
    "# Import the required module for text , to speech conversion\n",
    "from gtts import gTTS\n",
    "import os\n",
    "# The text that you want to convert to audio\n",
    "mytext = ('hii! How may i help you')\n",
    "# Language in which you want to convert\n",
    "language = ('en')\n",
    "# Passing the text and language to the engine,\n",
    "# here we have marked slow=False. Which tells the module that the converted audio should have a high speed\n",
    "myobj = gTTS(text=mytext, lang=language, slow=False)\n",
    "# Saving the converted audio in a mp3 file named\n",
    "# Text to speech\n",
    "myobj.save(\"Text to speech.mp3\")"
   ]
  },
  {
   "cell_type": "code",
   "execution_count": null,
   "id": "b8f6c27c",
   "metadata": {},
   "outputs": [],
   "source": []
  }
 ],
 "metadata": {
  "kernelspec": {
   "display_name": "Python 3 (ipykernel)",
   "language": "python",
   "name": "python3"
  },
  "language_info": {
   "codemirror_mode": {
    "name": "ipython",
    "version": 3
   },
   "file_extension": ".py",
   "mimetype": "text/x-python",
   "name": "python",
   "nbconvert_exporter": "python",
   "pygments_lexer": "ipython3",
   "version": "3.9.7"
  }
 },
 "nbformat": 4,
 "nbformat_minor": 5
}
